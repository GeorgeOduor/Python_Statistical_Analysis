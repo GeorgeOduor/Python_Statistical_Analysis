{
 "cells": [
  {
   "cell_type": "markdown",
   "metadata": {},
   "source": [
    "# _T-tests_ in Python\n",
    "In this kernel I am  going to discuss how to perform _T-tests_ in python.T-test is a parametric statistical test that is used to test if there exists a statisticaly significant difference between groups or a group and a hypothesised mean.For these tests to be implemented the data must meet the parametric assumptions which i am not going to go through in this short kernel.\n",
    "\n",
    "There are three types of _T-tests_:\n",
    "\n",
    "* One sample _T-test_.\n",
    "* Two sample _T-test_.\n",
    "* Paired sample _T-test_.\n",
    "\n",
    "## Part one: One sample _T-test_.\n",
    "### What it is.\n",
    "One sample _T-test_ is a parametric statistical technique that is used to test if there exists a statisticaly significant difference between a groups mean and a hypothesised mean.\n",
    "\n",
    "**Example**\n",
    "\n",
    "The average income of people working in a town can be assumed /hypothesised to be Ksh 25,500.A reseacher who feels that this mean is not true samples 50 people from this town ,calculates the mean and tests that mean against the hypothesised mean stated earlier.\n",
    "### Sample problem.\n",
    "\n",
    "#### Dataset\n",
    "\n",
    "In this example i have the iris dataset in seaborn library in python.\n",
    "#### Question\n",
    "\n",
    "It has been hypothesised that the mean sepal length of floweres in the iris dataset is 4cm.We are going to test if this statement is plausible.\n",
    "\n",
    "**Step 1:State the hypothesis.**\n",
    "\n",
    "$H_0:\\mu_0=\\bar x$ Hypothesized mean $\\mu_0$ is equal to the sample mean $\\bar x$\n",
    "\n",
    "$H_a:\\mu_0 \\neq \\bar x$ Hypothesizid mean $\\mu_0$ is not equal to the sample mean $\\bar x$\n",
    "\n",
    "In this case $\\mu_0$=4\n",
    "\n"
   ]
  },
  {
   "cell_type": "markdown",
   "metadata": {},
   "source": [
    "To handle this data should first import the dataset into my notebook."
   ]
  },
  {
   "cell_type": "code",
   "execution_count": 33,
   "metadata": {},
   "outputs": [
    {
     "data": {
      "text/plain": [
       "5.8"
      ]
     },
     "execution_count": 33,
     "metadata": {},
     "output_type": "execute_result"
    }
   ],
   "source": [
    "import seaborn as sns # loading seaborn library\n",
    "import pandas as pd\n",
    "iris = sns.load_dataset(\"iris\") # loading the dataset\n",
    "xbar = round(iris['sepal_length'].mean(),1) # calculating sample mean of sepal_length and rounding to the nearest one dp\n",
    "xbar\n"
   ]
  },
  {
   "cell_type": "code",
   "execution_count": 34,
   "metadata": {},
   "outputs": [
    {
     "name": "stdout",
     "output_type": "stream",
     "text": [
      "What is your hypothesized mean? 4\n",
      "What is your hypothesized mean? 4\n"
     ]
    },
    {
     "data": {
      "text/html": [
       "<div>\n",
       "<style scoped>\n",
       "    .dataframe tbody tr th:only-of-type {\n",
       "        vertical-align: middle;\n",
       "    }\n",
       "\n",
       "    .dataframe tbody tr th {\n",
       "        vertical-align: top;\n",
       "    }\n",
       "\n",
       "    .dataframe thead th {\n",
       "        text-align: right;\n",
       "    }\n",
       "</style>\n",
       "<table border=\"1\" class=\"dataframe\">\n",
       "  <thead>\n",
       "    <tr style=\"text-align: right;\">\n",
       "      <th></th>\n",
       "      <th></th>\n",
       "      <th>Test Statistic</th>\n",
       "      <th>p-value</th>\n",
       "      <th>true mean</th>\n",
       "      <th>hypothesized mean</th>\n",
       "    </tr>\n",
       "  </thead>\n",
       "  <tbody>\n",
       "    <tr>\n",
       "      <th>0</th>\n",
       "      <td>Sample Data</td>\n",
       "      <td>27.263681</td>\n",
       "      <td>8.764592e-60</td>\n",
       "      <td>5.8</td>\n",
       "      <td>4.0</td>\n",
       "    </tr>\n",
       "  </tbody>\n",
       "</table>\n",
       "</div>"
      ],
      "text/plain": [
       "                Test Statistic       p-value  true mean  hypothesized mean\n",
       "0  Sample Data       27.263681  8.764592e-60        5.8                4.0"
      ]
     },
     "execution_count": 34,
     "metadata": {},
     "output_type": "execute_result"
    }
   ],
   "source": [
    "mu = float(input(\"What is your hypothesized mean? \"))\n",
    "def one_sanple(dataset,variable,mu):\n",
    "    mu = float(input(\"What is your hypothesized mean? \"))\n",
    "    from scipy import stats # importing SciPy library\n",
    "    testresults = stats.ttest_1samp(dataset[variable],mu)\n",
    "    xbar = round(iris['sepal_length'].mean(),1) # calculating sample mean of sepal_length and rounding to the nearest one dp\n",
    "    results=pd.DataFrame({\"\":[\"Sample Data\"],\"Test Statistic\":testresults[0],\"p-value\":testresults[1],\"true mean\":xbar,\"hypothesized mean\":mu})\n",
    "    return(results)\n",
    "\n",
    "one_sanple(iris,'sepal_length',mu)\n"
   ]
  },
  {
   "cell_type": "markdown",
   "metadata": {},
   "source": [
    "###  Observation and inference.\n",
    "\n",
    "* T score:\n",
    "\n",
    "T score tells us how far or hypothesised  mean is from the true mean.A bigger t score tels us the hypothesized mean is far away from the true mean and vice versa.\n",
    "\n",
    "**But how big is this 'big'???**\n",
    "\n",
    "In order to answer this question we can use our the tscore values from the t test table.We can then eject the null hypothesis of equality of mean if the value we calculated greater than the t value.\n",
    "\n",
    "* P- Value:\n",
    "\n",
    "In most research scenarios,the t tables are not available so *p values* are most frequently used.P-value is the probability of getting the observed results or even more extreme results if the null hypothesis was true.We can safely reject the null hypothesis in favour of the alternative if the p value is less than an  acceptable threshold of 0.05.\n",
    "\n",
    "Looking at the output above,the t value is very large which is supported with a very small p value.This evidently support our alternative hypothesis that the true mean is not equal to 4."
   ]
  },
  {
   "cell_type": "markdown",
   "metadata": {},
   "source": [
    "## Part two:Independent Sample _T test._\n",
    "\n",
    "### What it is.\n",
    "\n",
    "Independent sample Ttest is used to test if two indpendent groups of data come from the same population,i.e if they have the same mean.\n",
    "\n",
    "### Example\n",
    "\n",
    "From the salaries example above,lets say we want to compare the salaries of two different groups of people,say from town A and town B.Data on these peoples salary will be sampled randomly from these two areas and compared.\n",
    "\n",
    "### Hypothesis\n",
    "\n",
    "$H_0:\\mu_1=\\mu_2$\n",
    "\n",
    "$H_a:\\mu_1 \\neq \\mu_2$\n",
    "\n",
    "### Dataset\n",
    "\n",
    "In an attempt to show this i will still use the iris dataset.I am going to test if the petall length average for the setosa and \n"
   ]
  },
  {
   "cell_type": "code",
   "execution_count": 35,
   "metadata": {},
   "outputs": [],
   "source": [
    "sum =iris['petal_length'].groupby(iris['species']).std(ddof=1)\n",
    "setosa_virginica = iris[(iris.species == \"setosa\") | (iris.species == \"virginica\")]\n",
    "setosa = iris[(iris.species=='setosa')]['sepal_width']\n",
    "virginica = iris[(iris.species=='virginica')]['sepal_width']"
   ]
  },
  {
   "cell_type": "markdown",
   "metadata": {},
   "source": [
    "The statistic\n",
    "$$t=\\frac{M_x-M_y}{\\sqrt {[\\frac{(\\sum X^2- \\frac{(\\sum X)^2}{N_x})+\\sum Y^2- \\frac{(\\sum Y)^2}{N_y}\n",
    "}{N_x+N_y-2}]}.[\\frac{1}{N_x}+\\frac{1}{N_y}]}$$\n",
    "where:\n",
    "\n",
    "$\\sum$= sum the following scores\n",
    "\n",
    "$M_x$= mean for Group A,\n",
    "$M_y$= mean for Group B,\n",
    "X = score in Group 1,\n",
    "Y = score in Group 2,\n",
    "$N_x$= number of scores in Group 1,\n",
    "$N_y$= number of scores in Group 2 \n",
    "\n",
    "The tric is to first calculate the t statistic."
   ]
  },
  {
   "cell_type": "code",
   "execution_count": 36,
   "metadata": {},
   "outputs": [
    {
     "name": "stdout",
     "output_type": "stream",
     "text": [
      "Setosa Mean\n"
     ]
    },
    {
     "data": {
      "text/html": [
       "<div>\n",
       "<style scoped>\n",
       "    .dataframe tbody tr th:only-of-type {\n",
       "        vertical-align: middle;\n",
       "    }\n",
       "\n",
       "    .dataframe tbody tr th {\n",
       "        vertical-align: top;\n",
       "    }\n",
       "\n",
       "    .dataframe thead th {\n",
       "        text-align: right;\n",
       "    }\n",
       "</style>\n",
       "<table border=\"1\" class=\"dataframe\">\n",
       "  <thead>\n",
       "    <tr style=\"text-align: right;\">\n",
       "      <th></th>\n",
       "      <th></th>\n",
       "      <th>Test statistic</th>\n",
       "      <th>p-value</th>\n",
       "      <th>Setosa Mean</th>\n",
       "      <th>Virginica Mean</th>\n",
       "      <th>None</th>\n",
       "    </tr>\n",
       "  </thead>\n",
       "  <tbody>\n",
       "    <tr>\n",
       "      <th>0</th>\n",
       "      <td>Setosa-Virginica</td>\n",
       "      <td>6.450349</td>\n",
       "      <td>4.246355e-09</td>\n",
       "      <td>3.428</td>\n",
       "      <td>2.974</td>\n",
       "      <td>0.454</td>\n",
       "    </tr>\n",
       "  </tbody>\n",
       "</table>\n",
       "</div>"
      ],
      "text/plain": [
       "                     Test statistic       p-value  Setosa Mean  \\\n",
       "0  Setosa-Virginica        6.450349  4.246355e-09        3.428   \n",
       "\n",
       "   Virginica Mean    NaN  \n",
       "0           2.974  0.454  "
      ]
     },
     "execution_count": 36,
     "metadata": {},
     "output_type": "execute_result"
    }
   ],
   "source": [
    "from scipy import stats\n",
    "twosample = stats.ttest_ind(setosa,virginica)# for calcualating the t statistic and pvalue\n",
    "#descriptive statistics\n",
    "setosa_mean = setosa.mean()\n",
    "pd.DataFrame({\"\":['Setosa-Virginica'],\n",
    "             \"Test statistic\":twosample[0],\n",
    "             \"p-value\":twosample[1],\n",
    "             \"Setosa Mean\":setosa.mean(),\n",
    "             \"Virginica Mean\":virginica.mean(),\n",
    "             print('Setosa Mean'):setosa.mean()-virginica.mean()})#presenting results\n",
    "\n"
   ]
  },
  {
   "cell_type": "markdown",
   "metadata": {},
   "source": [
    "### Observation and inference\n",
    "\n",
    "* P-value is less than 0.05.\n",
    "\n",
    "There is no statisticaly significant proof that the means are the same so it is safe to reject the null hypothesis of equality of means in this case.\n",
    "\n",
    "## Part three Paired Sample _T-test_.\n",
    "\n",
    "Paired sample t test is tests for impact or effect of something.It tests if there is a difference between two paides groups,i.e before and after situations.In such a case we have one sample population but measured twice.\n",
    "\n",
    "### Example\n",
    "\n",
    "A reseacher may want to know if there is any effect of a particular drug on malaria patients.He then takes the number of plamodioum cells recorded on a patients blood before and after the patient is exposed to a articular drug.The mean number is thus compared.\n",
    "\n",
    "### Hypothesis\n",
    "\n",
    "$H_0:\\mu_1=\\mu_0$ Population means are equal(NO EFFECT)\n",
    "\n",
    "$H_a:\\mu_1 \\neq \\mu_0$ Population means are not equal.(EFFECT)\n",
    "\n",
    "### Data Set\n",
    "\n",
    "In order to illustrate this , we will still use the iris dataset.We are going to assume our flowers  were  treated with a particular chemical which is believed to have an effect on sepal length.In order to achieve this i am going to add random numbers to sepal length and then test if there was realy an effect."
   ]
  },
  {
   "cell_type": "code",
   "execution_count": 40,
   "metadata": {},
   "outputs": [],
   "source": [
    "# Generating data\n",
    "import numpy as np\n",
    "np.random.seed(123)\n",
    "randnum = stats.norm.rvs(loc=1,scale = 2,size = len(iris))\n",
    "iris['sepal_after']=round(iris['sepal_length']+randnum,1)"
   ]
  },
  {
   "cell_type": "markdown",
   "metadata": {},
   "source": [
    "### Test statistic\n",
    "\n",
    "$$t = \\frac{\\bar x_{diff}-0}{s_{\\bar x}}$$\n",
    "Where\n",
    "\n",
    "$\\bar x_{diff}$=Sample mean of the differences\n",
    "\n",
    "$n$=sample size\n",
    "\n",
    "$s_{diff}$=sample standard deviation\n",
    "\n",
    "$s_{\\bar x}$=estimated standard error of the mean($\\frac{s_{diff}}{\\sqrt{n}}$)\n",
    "\n",
    "The calculated t value is then compared to the critical t value with df =n-1 from the distributation table for chosel level of confidence."
   ]
  },
  {
   "cell_type": "code",
   "execution_count": 38,
   "metadata": {},
   "outputs": [
    {
     "data": {
      "text/html": [
       "<div>\n",
       "<style scoped>\n",
       "    .dataframe tbody tr th:only-of-type {\n",
       "        vertical-align: middle;\n",
       "    }\n",
       "\n",
       "    .dataframe tbody tr th {\n",
       "        vertical-align: top;\n",
       "    }\n",
       "\n",
       "    .dataframe thead th {\n",
       "        text-align: right;\n",
       "    }\n",
       "</style>\n",
       "<table border=\"1\" class=\"dataframe\">\n",
       "  <thead>\n",
       "    <tr style=\"text-align: right;\">\n",
       "      <th></th>\n",
       "      <th></th>\n",
       "      <th>Test statistic</th>\n",
       "      <th>p-value</th>\n",
       "      <th>Mean after</th>\n",
       "      <th>Mean before</th>\n",
       "      <th>Mean Difference</th>\n",
       "    </tr>\n",
       "  </thead>\n",
       "  <tbody>\n",
       "    <tr>\n",
       "      <th>0</th>\n",
       "      <td>Sepal Before - Sepal After</td>\n",
       "      <td>-6.223403</td>\n",
       "      <td>4.687086e-09</td>\n",
       "      <td>6.956667</td>\n",
       "      <td>5.843333</td>\n",
       "      <td>1.113333</td>\n",
       "    </tr>\n",
       "  </tbody>\n",
       "</table>\n",
       "</div>"
      ],
      "text/plain": [
       "                               Test statistic       p-value  Mean after  \\\n",
       "0  Sepal Before - Sepal After       -6.223403  4.687086e-09    6.956667   \n",
       "\n",
       "   Mean before  Mean Difference  \n",
       "0     5.843333         1.113333  "
      ]
     },
     "execution_count": 38,
     "metadata": {},
     "output_type": "execute_result"
    }
   ],
   "source": [
    "pairedresult = stats.ttest_rel(iris['sepal_length'],iris['sepal_after'])\n",
    "pd.DataFrame({\"\":['Sepal Before - Sepal After'],\n",
    "             \"Test statistic\":pairedresult[0],\n",
    "             \"p-value\":pairedresult[1],\n",
    "             \"Mean after\":iris['sepal_after'].mean(),\n",
    "             \"Mean before\":iris['sepal_length'].mean(),\n",
    "             'Mean Difference':iris['sepal_after'].mean()-iris['sepal_length'].mean()})#presenting results"
   ]
  },
  {
   "cell_type": "markdown",
   "metadata": {},
   "source": [
    "### Observation and Inference\n",
    "\n",
    "* There was a significant average difference in mean length of sepal lengths after the chemical addition ($t_{150}=-6.223,p<0.05$.\n",
    "\n",
    "* On average ,Sepal lengths before were 1.113cm lower than after."
   ]
  },
  {
   "cell_type": "code",
   "execution_count": 39,
   "metadata": {},
   "outputs": [
    {
     "data": {
      "text/html": [
       "<style type=\"text/css\">\n",
       "table.dataframe td, table.dataframe th {\n",
       "    border-style: solid;\n",
       "}\n",
       "# to give my tables some nice borders in jupyter notebook\n"
      ],
      "text/plain": [
       "<IPython.core.display.HTML object>"
      ]
     },
     "metadata": {},
     "output_type": "display_data"
    }
   ],
   "source": [
    "%%HTML\n",
    "<style type=\"text/css\">\n",
    "table.dataframe td, table.dataframe th {\n",
    "    border-style: solid;\n",
    "}\n",
    "# to give my tables some nice borders in jupyter notebook"
   ]
  }
 ],
 "metadata": {
  "kernelspec": {
   "display_name": "Python 3",
   "language": "python",
   "name": "python3"
  },
  "language_info": {
   "codemirror_mode": {
    "name": "ipython",
    "version": 3
   },
   "file_extension": ".py",
   "mimetype": "text/x-python",
   "name": "python",
   "nbconvert_exporter": "python",
   "pygments_lexer": "ipython3",
   "version": "3.6.7"
  }
 },
 "nbformat": 4,
 "nbformat_minor": 2
}
